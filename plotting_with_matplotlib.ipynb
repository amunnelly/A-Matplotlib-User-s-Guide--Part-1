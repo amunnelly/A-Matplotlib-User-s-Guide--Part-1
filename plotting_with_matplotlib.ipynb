{
 "cells": [
  {
   "cell_type": "markdown",
   "metadata": {
    "slideshow": {
     "slide_type": "slide"
    }
   },
   "source": [
    "# A Matplotlib User Guide, Part 1\n",
    "<img src = \"matplotlib.png\" align = 'bottom'>\n",
    "\n",
    "\n",
    "\n",
    "\n",
    "\n",
    "### Anthony Munnelly\n",
    "\n",
    "http://www.twitter.com/anspailpin\n",
    "\n",
    "http://spailpin.blogspot.ie\n"
   ]
  },
  {
   "cell_type": "markdown",
   "metadata": {
    "slideshow": {
     "slide_type": "slide"
    }
   },
   "source": [
    "#### Types of Plots\n",
    "Plotting in Pandas falls under two species – the native plotting capability of the Pandas data analysis library itself, and plotting-specific libraries like *ggplot* and *Matplotlib*."
   ]
  },
  {
   "cell_type": "markdown",
   "metadata": {
    "slideshow": {
     "slide_type": "fragment"
    }
   },
   "source": [
    "*Ggplot* is fine – it has a very distinctive grammar and syntax, and you can spot it a mile away. *Matplotlib* is trickier, for two reasons.\n",
    "1. Its grammar and syntax are very similar to native python plotting. This is a feature in that process are both suitably familiar and pleasingly pythonic, but a bug in the sense that it can be quite easy to get mixed up between the two.\n",
    "2. Just as *ggplot* began as an *R* tool, *Matplotlib* began as a means of generating Python graphics that would be familiar to users of *MATLAB*, which was (is?) the leading commercial visualization tool for data analysis.\n",
    "This meant that, as fixes were added here and there, Matplotlib evolved into a quite a byzantine structure, full of strange turnings and unexpected directions and weird methods. Very beautiful in a medieval cathedral, but not ideally suited to the land of ones and zeros."
   ]
  },
  {
   "cell_type": "markdown",
   "metadata": {
    "slideshow": {
     "slide_type": "fragment"
    }
   },
   "source": [
    "So, what I’m hoping to do here today is cut through the brush to outline some ways to make Matplotlib work for those who have to use it. This is by no means a comprehensive review, as the hall would be closed before before I’d got past b-for-bar/barh but I hope it’s of some use."
   ]
  },
  {
   "cell_type": "markdown",
   "metadata": {
    "slideshow": {
     "slide_type": "slide"
    }
   },
   "source": [
    "#### The Matplotlib Environment\n",
    "This is just some of the Matplotlib environment:\n",
    "\n",
    "<img src = 'MatplotLib.pdf'>"
   ]
  },
  {
   "cell_type": "markdown",
   "metadata": {
    "slideshow": {
     "slide_type": "slide"
    }
   },
   "source": [
    "Terrifying, isn’t it? As it turns out, like so many things, it isn’t actually that bad once you get used to it. Most of the packages listed in the first circle of acquaintance, if you like, are either of esoteric interest only, or else will be naturally drawn into areas of true interest.\n",
    "\n",
    "This is the area of true interest:\n",
    "\n",
    "<img src = 'pyplot.png'>\n",
    "\n",
    "This is pyplot, the largo al factotum, the workhorse, the Swiss Army knife, of Matplotlib. 95% of the things you need to do are done here. Matplot lib is generally imported as `matplotlib.pyplot`, because pyplot is where it’s at."
   ]
  },
  {
   "cell_type": "markdown",
   "metadata": {
    "slideshow": {
     "slide_type": "slide"
    }
   },
   "source": [
    "#### pyplot.plotting()\n",
    "\n",
    "Pyplot has a method called `pyplot.plotting()` that contains all the plot methods that are featured in the Excel charting machine, and some that are not, such as the invaluable boxplot – it is a long-standing puzzle to me that Excel hasn’t a boxplot option. However, although you would then expect these methods to be called as `plt.plotting.scatter()`, or `plt.plotting.plot()`, misfortunate plotting is never called in code at all. This isn’t terribly consistent but there you go. We’re going to have to learn to live with that."
   ]
  },
  {
   "cell_type": "markdown",
   "metadata": {
    "slideshow": {
     "slide_type": "slide"
    }
   },
   "source": [
    "#### The World's Simplest Data Frame\n",
    "For the purpose of our first few plots, before we up the ante a little, we’re going to work on _The World's Simplest Data Frame_. It always grates on me a little when reading examples that I am in cold sweat just figuring out the sample data before I get to what I want to look up in the first place. Tonight, therefore, I have my revenge in _The World's Simplest Data Frame_  – wsdf from here on in – which has easily recognisable values. Here it is:"
   ]
  },
  {
   "cell_type": "code",
   "execution_count": 1,
   "metadata": {
    "collapsed": false,
    "slideshow": {
     "slide_type": "fragment"
    }
   },
   "outputs": [
    {
     "name": "stdout",
     "output_type": "stream",
     "text": [
      "  days  sales\n",
      "0  Mon      1\n",
      "1  Tue      2\n",
      "2  Wed      3\n",
      "3  Thu      4\n",
      "4  Fri      5\n"
     ]
    }
   ],
   "source": [
    "%matplotlib inline\n",
    "import pandas as pd\n",
    "import numpy as np\n",
    "import matplotlib.pyplot as plt\n",
    "\n",
    "wsdf = pd.DataFrame({\"days\":[\"Mon\", \"Tue\", \"Wed\", \"Thu\", \"Fri\"],\n",
    "                     \"sales\":[1, 2, 3, 4, 5]})\n",
    "print wsdf"
   ]
  },
  {
   "cell_type": "markdown",
   "metadata": {
    "slideshow": {
     "slide_type": "slide"
    }
   },
   "source": [
    "### Line plots\n",
    "What does `plt.plot()` do? Let’s find out."
   ]
  },
  {
   "cell_type": "code",
   "execution_count": 2,
   "metadata": {
    "collapsed": false,
    "slideshow": {
     "slide_type": "fragment"
    }
   },
   "outputs": [
    {
     "data": {
      "text/plain": [
       "[<matplotlib.lines.Line2D at 0x106935350>]"
      ]
     },
     "execution_count": 2,
     "metadata": {},
     "output_type": "execute_result"
    },
    {
     "data": {
      "image/png": "[encoded data removed]",
      "text/plain": [
       "<matplotlib.figure.Figure at 0x103dc4410>"
      ]
     },
     "metadata": {},
     "output_type": "display_data"
    }
   ],
   "source": [
    "plt.plot(wsdf.sales)"
   ]
  },
  {
   "cell_type": "markdown",
   "metadata": {
    "slideshow": {
     "slide_type": "slide"
    }
   },
   "source": [
    "So we’re already learned something. The line plot is the default plot for Matplotlib, just as it is in native Pandas visualization. Nothing could be simpler.  You’ll note that it’s not that easy to spot where the points are. We can fix that."
   ]
  },
  {
   "cell_type": "markdown",
   "metadata": {
    "slideshow": {
     "slide_type": "fragment"
    }
   },
   "source": [
    "A consultation with the [documentation](http://matplotlib.org/api/pyplot_api.html#matplotlib.pyplot.boxplot) tells us that `plt.plot()` has certain arguments associated with it. Here are the more interesting.\n",
    "\n",
    "`plt.plot(`\n",
    "\n",
    "color= _a string or list _ <br>\n",
    "label= _a string with which to identify the data; see below_ <br>\n",
    "linestyle= _you can choose if a line is solid, dashed or other. Cf help(plt.plot)_ <br>\n",
    "linewidth= _an integer_ <br>\n",
    "marker= _as with the linestyle, there are different marker types to choose from _ <br>\n",
    "markeredgecolor= _a string with a recognisable color, a hex value, rgb, etc._ <br>\n",
    "markeredgewidth= _an int _ <br>\n",
    "markerfacecolor= _as per markeredgecolor above _ <br>\n",
    "markersize= _an int. You can strike a balance between overplotting and dramatic effect, as we shall see soon_ <br>\n",
    "`)`\n",
    "\n",
    "So here we can use the `color` attribute to make a thin red line"
   ]
  },
  {
   "cell_type": "code",
   "execution_count": 3,
   "metadata": {
    "collapsed": false,
    "slideshow": {
     "slide_type": "slide"
    }
   },
   "outputs": [
    {
     "data": {
      "text/plain": [
       "[<matplotlib.lines.Line2D at 0x106a97590>]"
      ]
     },
     "execution_count": 3,
     "metadata": {},
     "output_type": "execute_result"
    },
    {
     "data": {
      "image/png": "[encoded data removed]",
      "text/plain": [
       "<matplotlib.figure.Figure at 0x10698ff90>"
      ]
     },
     "metadata": {},
     "output_type": "display_data"
    }
   ],
   "source": [
    "plt.plot(wsdf.sales, color = 'red')"
   ]
  },
  {
   "cell_type": "markdown",
   "metadata": {
    "slideshow": {
     "slide_type": "slide"
    }
   },
   "source": [
    "A thin red line with obvious marker points"
   ]
  },
  {
   "cell_type": "code",
   "execution_count": 4,
   "metadata": {
    "collapsed": false,
    "slideshow": {
     "slide_type": "fragment"
    }
   },
   "outputs": [
    {
     "data": {
      "text/plain": [
       "[<matplotlib.lines.Line2D at 0x106bbda90>]"
      ]
     },
     "execution_count": 4,
     "metadata": {},
     "output_type": "execute_result"
    },
    {
     "data": {
      "image/png": "[encoded data removed]",
      "text/plain": [
       "<matplotlib.figure.Figure at 0x103da7890>"
      ]
     },
     "metadata": {},
     "output_type": "display_data"
    }
   ],
   "source": [
    "plt.plot(wsdf.sales, color = 'red', marker = 'o')"
   ]
  },
  {
   "cell_type": "markdown",
   "metadata": {
    "slideshow": {
     "slide_type": "slide"
    }
   },
   "source": [
    "Some markers on their own, thanks to some dexterous use of the `linewidth` argument."
   ]
  },
  {
   "cell_type": "code",
   "execution_count": 5,
   "metadata": {
    "collapsed": false,
    "slideshow": {
     "slide_type": "fragment"
    }
   },
   "outputs": [
    {
     "data": {
      "text/plain": [
       "[<matplotlib.lines.Line2D at 0x106f248d0>]"
      ]
     },
     "execution_count": 5,
     "metadata": {},
     "output_type": "execute_result"
    },
    {
     "data": {
      "image/png": "[encoded data removed]",
      "text/plain": [
       "<matplotlib.figure.Figure at 0x106bd6c10>"
      ]
     },
     "metadata": {},
     "output_type": "display_data"
    }
   ],
   "source": [
    "plt.plot(wsdf.sales, color = 'red', marker = '*', linewidth = 0)"
   ]
  },
  {
   "cell_type": "markdown",
   "metadata": {
    "slideshow": {
     "slide_type": "slide"
    }
   },
   "source": [
    "Sacrificing accuracy for impact with those points:"
   ]
  },
  {
   "cell_type": "code",
   "execution_count": 6,
   "metadata": {
    "collapsed": false,
    "slideshow": {
     "slide_type": "fragment"
    }
   },
   "outputs": [
    {
     "data": {
      "text/plain": [
       "[<matplotlib.lines.Line2D at 0x107045450>]"
      ]
     },
     "execution_count": 6,
     "metadata": {},
     "output_type": "execute_result"
    },
    {
     "data": {
      "image/png": "[encoded data removed]",
      "text/plain": [
       "<matplotlib.figure.Figure at 0x106f3c9d0>"
      ]
     },
     "metadata": {},
     "output_type": "display_data"
    }
   ],
   "source": [
    "plt.plot(wsdf.sales, color = 'red', marker = '*', markersize = 50, linewidth = 0)"
   ]
  },
  {
   "cell_type": "markdown",
   "metadata": {
    "slideshow": {
     "slide_type": "slide"
    }
   },
   "source": [
    "#### Line v Scatter Plots\n",
    "`pyplot.plot()` is a line plot by default. It works out quite nicely as a scatter plot when you need it to, by setting `linewidth=0` but there is a problem, and it is this. Line plots can only deal with one array of data. We have to use scatter plots if we're comparing one array with another.\n",
    "\n",
    "Scatter plots aren't difficult - relatively speaking - but they have quite a lot of depth. Unfortunately, to demonstate that depth would take up a lot of time and there's only so many charts we can look at tonight. Scatter plot fans shouldn't lose hope though - this is called Part 1, after all.\n",
    "\n",
    "So, with that `plt.scatter()` absence noted, let's hit the bar."
   ]
  },
  {
   "cell_type": "markdown",
   "metadata": {
    "slideshow": {
     "slide_type": "slide"
    }
   },
   "source": [
    "### Bar Charts\n",
    "\n",
    "`Plt.bar()` is the method for making bar charts in Matplotlib. You would think that plotting days against sales is the obvious way to make a bar chart of our sales data:\n",
    "`plt.bar(wsdf.days, wsdf.sales)`."
   ]
  },
  {
   "cell_type": "markdown",
   "metadata": {
    "slideshow": {
     "slide_type": "fragment"
    }
   },
   "source": [
    "You would be wrong. Plotting days against sales throws up this frankly terrifying error message:\n",
    "```\n",
    "Traceback (most recent call last):    File \"<ipython-input-7-61fd1420bd3e>\", line 1, in <module>     plt.bar(wsdf.days, wsdf.sales)    File \"/Users/tutorialContent/anaconda/lib/python2.7/site-packages/matplotlib/pyplot.py\", line 2573, in bar     ret = ax.bar(left, height, width=width, bottom=bottom, **kwargs)    File \"/Users/tutorialContent/anaconda/lib/python2.7/site-packages/matplotlib/axes/_axes.py\", line 2045, in bar     self.add_patch(r)    File \"/Users/tutorialContent/anaconda/lib/python2.7/site-packages/matplotlib/axes/_base.py\", line 1568, in add_patch     self._update_patch_limits(p)    File \"/Users/tutorialContent/anaconda/lib/python2.7/site-packages/matplotlib/axes/_base.py\", line 1588, in _update_patch_limits     xys = patch.get_patch_transform().transform(vertices)    File \"/Users/tutorialContent/anaconda/lib/python2.7/site-packages/matplotlib/patches.py\", line 626, in get_patch_transform     self._update_patch_transform()    File \"/Users/tutorialContent/anaconda/lib/python2.7/site-packages/matplotlib/patches.py\", line 619, in _update_patch_transform     bbox = transforms.Bbox.from_bounds(x, y, width, height)    File \"/Users/tutorialContent/anaconda/lib/python2.7/site-packages/matplotlib/transforms.py\", line 829, in from_bounds     return Bbox.from_extents(x0, y0, x0 + width, y0 + height)  TypeError: cannot concatenate 'str' and 'float' objects\n",
    "```"
   ]
  },
  {
   "cell_type": "markdown",
   "metadata": {
    "slideshow": {
     "slide_type": "slide"
    }
   },
   "source": [
    "Badly shaken, you go to the [documentation](http://matplotlib.org/api/pyplot_api.html?highlight=bar#matplotlib.pyplot.bar):\n",
    "\n",
    "<img src = 'barplot_from_docs.png'>"
   ]
  },
  {
   "cell_type": "markdown",
   "metadata": {
    "slideshow": {
     "slide_type": "slide"
    }
   },
   "source": [
    "I can’t understand a word of that. Left? A sequence of scalars? All I want to know is where I put the days. What’s going on? Better try Google.\n",
    "\n",
    "One of the highest-ranking results on Google is, naturally, a Stack Overflow page. It has a comment that I think is worth quoting as the ne plus ultra, there is no better, example of a Stack Overflow response:\n",
    "\n",
    ">\"To make a bar diagram with matplotlib, use the matplotlib.pyplot.bar() method. Have a look at this page of the matplotlib documentation that explains very well with examples and source code how to do it.\" "
   ]
  },
  {
   "cell_type": "markdown",
   "metadata": {
    "slideshow": {
     "slide_type": "slide"
    }
   },
   "source": [
    "<img src=\"picard_facepalm.jpg\">"
   ]
  },
  {
   "cell_type": "markdown",
   "metadata": {
    "slideshow": {
     "slide_type": "slide"
    }
   },
   "source": [
    "#### Bar Charts Take You Back to School\n",
    "Making a Matplotlib bar chart takes you back to school. If you’re back in school doing this for homework, you draw your plot and then your bars and then write the categories at the bottom. In Matplotlib you do the same.\n",
    "\n",
    "Consider this code: `plt.plot(range(4), range(4))`\n",
    "\n",
    "Now, if you switch ‘bar’ for ‘plot,’ this is what happens:"
   ]
  },
  {
   "cell_type": "code",
   "execution_count": 7,
   "metadata": {
    "collapsed": false,
    "slideshow": {
     "slide_type": "fragment"
    }
   },
   "outputs": [
    {
     "data": {
      "text/plain": [
       "<Container object of 4 artists>"
      ]
     },
     "execution_count": 7,
     "metadata": {},
     "output_type": "execute_result"
    },
    {
     "data": {
      "image/png": "[encoded data removed]",
      "text/plain": [
       "<matplotlib.figure.Figure at 0x10708d490>"
      ]
     },
     "metadata": {},
     "output_type": "display_data"
    }
   ],
   "source": [
    "plt.bar(range(4), range(4))"
   ]
  },
  {
   "cell_type": "markdown",
   "metadata": {
    "slideshow": {
     "slide_type": "slide"
    }
   },
   "source": [
    "Remarkable. `range(4)` and `range(4)` were the scalars we were looking for – but what connects the to the data?"
   ]
  },
  {
   "cell_type": "markdown",
   "metadata": {
    "slideshow": {
     "slide_type": "fragment"
    }
   },
   "source": [
    "Matplotlib wants you to go back to school, and to do three things.\n",
    "\n",
    "* Count out the number of bars.\n",
    "* Associate values with the bars.\n",
    "* Write in the bar labels.\n",
    "\n",
    "So, the number of the bars is obviously `len(wsdf.days)`, and the values are `sdf.sales`. But wait – the docs asked for a range of scalars, so that’s what we’ll give them – `range(len(wsdf.days))`. Put all that into the oven and we get:"
   ]
  },
  {
   "cell_type": "code",
   "execution_count": 8,
   "metadata": {
    "collapsed": false,
    "slideshow": {
     "slide_type": "slide"
    }
   },
   "outputs": [
    {
     "data": {
      "text/plain": [
       "<Container object of 5 artists>"
      ]
     },
     "execution_count": 8,
     "metadata": {},
     "output_type": "execute_result"
    },
    {
     "data": {
      "image/png": "[encoded data removed]",
      "text/plain": [
       "<matplotlib.figure.Figure at 0x1071c23d0>"
      ]
     },
     "metadata": {},
     "output_type": "display_data"
    }
   ],
   "source": [
    "plt.bar(range(len(wsdf.days)), wsdf.sales)"
   ]
  },
  {
   "cell_type": "markdown",
   "metadata": {
    "slideshow": {
     "slide_type": "slide"
    }
   },
   "source": [
    "And there it is. We still don’t have the labels, but we can add them easily – well; relatively easily – enough, and we can also use the `plt.bar()` arguments to pretty the thing up a little:"
   ]
  },
  {
   "cell_type": "code",
   "execution_count": 9,
   "metadata": {
    "collapsed": false,
    "slideshow": {
     "slide_type": "fragment"
    }
   },
   "outputs": [
    {
     "data": {
      "text/plain": [
       "<matplotlib.text.Text at 0x10737ed90>"
      ]
     },
     "execution_count": 9,
     "metadata": {},
     "output_type": "execute_result"
    },
    {
     "data": {
      "image/png": "[encoded data removed]",
      "text/plain": [
       "<matplotlib.figure.Figure at 0x1070c4410>"
      ]
     },
     "metadata": {},
     "output_type": "display_data"
    }
   ],
   "source": [
    "plt.bar(np.arange(len(wsdf.days)), wsdf.sales,\n",
    "        align = 'center',\n",
    "        color = ['red', 'pink'],\n",
    "        edgecolor = ['pink', 'red'])\n",
    "plt.xticks(range(5), wsdf.days)\n",
    "plt.title('The World\\'s Simplest DataFrame')"
   ]
  },
  {
   "cell_type": "markdown",
   "metadata": {
    "slideshow": {
     "slide_type": "notes"
    }
   },
   "source": [
    "Note how the color arguments take lists, as well as single strings. V handy."
   ]
  },
  {
   "cell_type": "markdown",
   "metadata": {
    "slideshow": {
     "slide_type": "slide"
    }
   },
   "source": [
    "#### Labelling\n",
    "To just draw your attention to the `plt.xticks()` method for a moment. X-ticks are the markers along the x-axis of the graph. `plt.xticks()` takes two parameters - the number of bars, `range(5)` in our current case, and the labels for x-axis. But remember from the start that labels mean less than nothing to `plt.xticks()`, so we can write this without fear of reprecussion: "
   ]
  },
  {
   "cell_type": "code",
   "execution_count": 10,
   "metadata": {
    "collapsed": false,
    "slideshow": {
     "slide_type": "slide"
    }
   },
   "outputs": [
    {
     "data": {
      "text/plain": [
       "<matplotlib.text.Text at 0x1072fa190>"
      ]
     },
     "execution_count": 10,
     "metadata": {},
     "output_type": "execute_result"
    },
    {
     "data": {
      "image/png": "[encoded data removed]",
      "text/plain": [
       "<matplotlib.figure.Figure at 0x1073fb0d0>"
      ]
     },
     "metadata": {},
     "output_type": "display_data"
    }
   ],
   "source": [
    "rolling_stones = [\"Mick\", \"Keef\", \"Brian\", \"Bill\", \"Charlie\"]\n",
    "plt.bar(np.arange(len(wsdf.days)), wsdf.sales,\n",
    "        align = 'center',\n",
    "        color = ['red', 'pink'],\n",
    "        edgecolor = ['pink', 'red'])\n",
    "plt.xticks(range(5), rolling_stones)\n",
    "plt.title('The World\\'s Simplest DataFrame')"
   ]
  },
  {
   "cell_type": "markdown",
   "metadata": {
    "slideshow": {
     "slide_type": "fragment"
    }
   },
   "source": [
    "And it'll work out just the same. Words only have semantic meaning to us. They're just some more ones and zeroes to the machine."
   ]
  },
  {
   "cell_type": "markdown",
   "metadata": {
    "slideshow": {
     "slide_type": "slide"
    }
   },
   "source": [
    "### The mtcars dataset\n",
    "We’re going to have to leave our _World’s Simplest Data Frame_ behind us now, as we need something a little more toothsome. Again, for familiarity, we’ll use the `mtcars` dataset that I’m sure everybody’s seen before. It’s a selection of cars as listed in a magazine called *Motor Trends* magazine in 1974, and these are its data types:"
   ]
  },
  {
   "cell_type": "code",
   "execution_count": 11,
   "metadata": {
    "collapsed": false,
    "slideshow": {
     "slide_type": "fragment"
    }
   },
   "outputs": [
    {
     "name": "stdout",
     "output_type": "stream",
     "text": [
      "Unnamed: 0     object\n",
      "mpg           float64\n",
      "cyl             int64\n",
      "disp          float64\n",
      "hp              int64\n",
      "drat          float64\n",
      "wt            float64\n",
      "qsec          float64\n",
      "vs              int64\n",
      "am              int64\n",
      "gear            int64\n",
      "carb            int64\n",
      "dtype: object\n"
     ]
    }
   ],
   "source": [
    "mtcars = pd.read_csv('mtcars.csv')\n",
    "print mtcars.dtypes"
   ]
  },
  {
   "cell_type": "markdown",
   "metadata": {
    "slideshow": {
     "slide_type": "slide"
    }
   },
   "source": [
    "### Histograms\n",
    "MS Excel, for some reason, doesn't support histograms. I have no idea why. The native pandas plotting capability not only has histograms, but also does a very nice kernel density estimate graph too, like so:"
   ]
  },
  {
   "cell_type": "code",
   "execution_count": 12,
   "metadata": {
    "collapsed": false,
    "slideshow": {
     "slide_type": "fragment"
    }
   },
   "outputs": [
    {
     "data": {
      "text/plain": [
       "<matplotlib.axes._subplots.AxesSubplot at 0x1071dec10>"
      ]
     },
     "execution_count": 12,
     "metadata": {},
     "output_type": "execute_result"
    },
    {
     "data": {
      "image/png": "[encoded data removed]",
      "text/plain": [
       "<matplotlib.figure.Figure at 0x107491510>"
      ]
     },
     "metadata": {},
     "output_type": "display_data"
    }
   ],
   "source": [
    "mtcars.mpg.plot(kind = 'hist', title = 'The native histogram')"
   ]
  },
  {
   "cell_type": "code",
   "execution_count": 13,
   "metadata": {
    "collapsed": false,
    "slideshow": {
     "slide_type": "slide"
    }
   },
   "outputs": [
    {
     "data": {
      "text/plain": [
       "<matplotlib.axes._subplots.AxesSubplot at 0x1076e20d0>"
      ]
     },
     "execution_count": 13,
     "metadata": {},
     "output_type": "execute_result"
    },
    {
     "data": {
      "image/png": "[encoded data removed]",
      "text/plain": [
       "<matplotlib.figure.Figure at 0x1072fa2d0>"
      ]
     },
     "metadata": {},
     "output_type": "display_data"
    }
   ],
   "source": [
    "mtcars.mpg.plot(kind = 'kde', title = 'The native Kernel Density Estimate Plot')"
   ]
  },
  {
   "cell_type": "markdown",
   "metadata": {
    "slideshow": {
     "slide_type": "slide"
    }
   },
   "source": [
    "Sadly, `matplotlib.pyplot()` won't let you make a kernel density estimate graph unless you make a kernel density estimate first. We won't be going anywhere near such mind-bending maths tonight. We're going to keep it nice and simple with `pyplot.hist()`:"
   ]
  },
  {
   "cell_type": "code",
   "execution_count": 14,
   "metadata": {
    "collapsed": false,
    "slideshow": {
     "slide_type": "fragment"
    }
   },
   "outputs": [
    {
     "data": {
      "text/plain": [
       "(array([ 2.,  4.,  6.,  6.,  5.,  3.,  1.,  1.,  2.,  2.]),\n",
       " array([ 10.4 ,  12.75,  15.1 ,  17.45,  19.8 ,  22.15,  24.5 ,  26.85,\n",
       "         29.2 ,  31.55,  33.9 ]),\n",
       " <a list of 10 Patch objects>)"
      ]
     },
     "execution_count": 14,
     "metadata": {},
     "output_type": "execute_result"
    },
    {
     "data": {
      "image/png": "[encoded data removed]",
      "text/plain": [
       "<matplotlib.figure.Figure at 0x1093aea90>"
      ]
     },
     "metadata": {},
     "output_type": "display_data"
    }
   ],
   "source": [
    "plt.hist(mtcars.mpg)"
   ]
  },
  {
   "cell_type": "markdown",
   "metadata": {
    "slideshow": {
     "slide_type": "slide"
    }
   },
   "source": [
    "#### Bins\n",
    "The big thing about any histograms are its bins - that is to say, the number of divisions into which you wish to divide your data. There are two ways to do this:\n",
    "1. Set the binwidth, as `ggplot()` does.\n",
    "2. Decide on the total number of bins, as `plt.hist()` does. The default, as you can see above, is ten. The trick is to get it just right."
   ]
  },
  {
   "cell_type": "code",
   "execution_count": 15,
   "metadata": {
    "collapsed": false,
    "slideshow": {
     "slide_type": "fragment"
    }
   },
   "outputs": [
    {
     "data": {
      "text/plain": [
       "<matplotlib.text.Text at 0x1095ba610>"
      ]
     },
     "execution_count": 15,
     "metadata": {},
     "output_type": "execute_result"
    },
    {
     "data": {
      "image/png": "[encoded data removed]",
      "text/plain": [
       "<matplotlib.figure.Figure at 0x1093aec10>"
      ]
     },
     "metadata": {},
     "output_type": "display_data"
    }
   ],
   "source": [
    "plt.hist(mtcars.mpg, bins = 5)\n",
    "plt.title(\"Five bins may be too few\")"
   ]
  },
  {
   "cell_type": "code",
   "execution_count": 16,
   "metadata": {
    "collapsed": false,
    "slideshow": {
     "slide_type": "slide"
    }
   },
   "outputs": [
    {
     "data": {
      "text/plain": [
       "<matplotlib.text.Text at 0x1077c87d0>"
      ]
     },
     "execution_count": 16,
     "metadata": {},
     "output_type": "execute_result"
    },
    {
     "data": {
      "image/png": "[encoded data removed]",
      "text/plain": [
       "<matplotlib.figure.Figure at 0x1095aec10>"
      ]
     },
     "metadata": {},
     "output_type": "display_data"
    }
   ],
   "source": [
    "plt.hist(mtcars.mpg, bins = 32)\n",
    "plt.title(\"But 32 bins, the length of the dataset, is just too many\")"
   ]
  },
  {
   "cell_type": "code",
   "execution_count": 17,
   "metadata": {
    "collapsed": false,
    "slideshow": {
     "slide_type": "slide"
    }
   },
   "outputs": [
    {
     "data": {
      "text/plain": [
       "<matplotlib.text.Text at 0x109a58fd0>"
      ]
     },
     "execution_count": 17,
     "metadata": {},
     "output_type": "execute_result"
    },
    {
     "data": {
      "image/png": "[encoded data removed]",
      "text/plain": [
       "<matplotlib.figure.Figure at 0x109993dd0>"
      ]
     },
     "metadata": {},
     "output_type": "display_data"
    }
   ],
   "source": [
    "plt.hist(mtcars.mpg, color = '#FFA50D', edgecolor = '#FF5C00')\n",
    "plt.title(\"Sometimes, there can be a lot to be said for defaults.\")"
   ]
  },
  {
   "cell_type": "markdown",
   "metadata": {
    "slideshow": {
     "slide_type": "slide"
    }
   },
   "source": [
    "### Boxplots\n",
    "The native Pandas plotting really comes into its own when it comes to boxplots. You want to know how miles per gallon breaks down against cylinder count? Nothing could be simpler:"
   ]
  },
  {
   "cell_type": "code",
   "execution_count": 18,
   "metadata": {
    "collapsed": false,
    "slideshow": {
     "slide_type": "fragment"
    }
   },
   "outputs": [
    {
     "data": {
      "text/plain": [
       "<matplotlib.axes._subplots.AxesSubplot at 0x109a64bd0>"
      ]
     },
     "execution_count": 18,
     "metadata": {},
     "output_type": "execute_result"
    },
    {
     "data": {
      "image/png": "[encoded data removed]",
      "text/plain": [
       "<matplotlib.figure.Figure at 0x109a6cf50>"
      ]
     },
     "metadata": {},
     "output_type": "display_data"
    }
   ],
   "source": [
    "mtcars.boxplot(column = 'mpg', by = 'cyl')"
   ]
  },
  {
   "cell_type": "markdown",
   "metadata": {
    "slideshow": {
     "slide_type": "slide"
    }
   },
   "source": [
    "Isn't that beautiful? Instant information, at your fingertips.\n",
    "\n",
    "In Matplotlib, making a boxplot is a little more gnarly, as people who were young once but might not be so young anymore might say. \n",
    "\n",
    "This is the code outline:"
   ]
  },
  {
   "cell_type": "markdown",
   "metadata": {
    "slideshow": {
     "slide_type": "fragment"
    }
   },
   "source": [
    "<img src = 'boxplot_from_docs.png'>"
   ]
  },
  {
   "cell_type": "markdown",
   "metadata": {
    "slideshow": {
     "slide_type": "slide"
    }
   },
   "source": [
    "Great. I want to know where my data goes and this thing is wittering on about notches and flier marks. However, like the oracle at Delphi, the Matplotlib documentation doesn’t leave us completely bereft. You’ll notice the reference to the “array or sequence of vectors.”\n",
    "\n",
    "What the documention tells us that to make a Matplotlib boxplot, you’ll need your information in an array. If you’re information is in a data frame, you’re going to have to do some tramping through the rye. Specifically, you need to,\n",
    "1. Create two lists, one for data and one for labels.\n",
    "2. Break your category into groups (your category being what you would have written in the “by=” section for a native Pandas boxplot)\n",
    "3. Iterate through your group, adding your sought-after data to the data list and your label (the group name) to the data list for each group.\n",
    "4. Assemble your boxplot\n",
    "\n",
    "Like so:"
   ]
  },
  {
   "cell_type": "code",
   "execution_count": 19,
   "metadata": {
    "collapsed": false,
    "slideshow": {
     "slide_type": "slide"
    }
   },
   "outputs": [
    {
     "data": {
      "text/plain": [
       "<matplotlib.text.Text at 0x109f591d0>"
      ]
     },
     "execution_count": 19,
     "metadata": {},
     "output_type": "execute_result"
    },
    {
     "data": {
      "image/png": "[encoded data removed]",
      "text/plain": [
       "<matplotlib.figure.Figure at 0x109d39290>"
      ]
     },
     "metadata": {},
     "output_type": "display_data"
    }
   ],
   "source": [
    "# Step 1\n",
    "myData = []\n",
    "myLabels = []\n",
    "\n",
    "# Step 2\n",
    "cylinders = mtcars.groupby('cyl')\n",
    "\n",
    "# Step 3\n",
    "for a, b in cylinders:\n",
    "    myData.append(b['mpg'])\n",
    "    myLabels.append(a)\n",
    "    \n",
    "# Step 4\n",
    "plt.boxplot(myData, labels = myLabels)\n",
    "plt.xlabel(\"Number of cylinders\")\n",
    "plt.ylabel(\"Miles per Gallon\")"
   ]
  },
  {
   "cell_type": "markdown",
   "metadata": {
    "slideshow": {
     "slide_type": "slide"
    }
   },
   "source": [
    "## PLOTS, FIGURES AND AXES\n",
    "We’ve noticed earlier that there is a certain inconsistency in Matplotlib methods and the language used to describe them. This reaches its apotheosis, I feel, when it comes to the concepts of plots, figures and axes. What is a plot? What is a figure? What is an axis/axes? How do they relate to each other?"
   ]
  },
  {
   "cell_type": "markdown",
   "metadata": {
    "slideshow": {
     "slide_type": "slide"
    }
   },
   "source": [
    "#### More Inconsistencies\n",
    "And as I say, it’s awkward. Technically, a figure is that thing on which our plots are drawn. But wait, you say – haven’t we been drawing plots all evening without ever mentioning figures? Yes, we have. This would be the inconsistency we’ve spoken of already, and we just have to live with it."
   ]
  },
  {
   "cell_type": "markdown",
   "metadata": {},
   "source": [
    "#### The Figure is Father to the Axes\n",
    "The Luke-I-am-your-father thing is still to come, however. The figure on which we draw our plots can be broken down further, and these subsections, technically subplots, are called axes.\n",
    "\n",
    "Now. The Oxford English dictionary has six definitions for axis as a concept, and none of them relate to the way the word is used in Matplotlib. As time goes by I think the use of the command `axes()` will recede as there are much handier ways of putting subplots together now. But in the meantime, you’re as well to accept that axes have rather specialized meanings in Matplotlib. It's not going to change anytime soon."
   ]
  },
  {
   "cell_type": "markdown",
   "metadata": {
    "slideshow": {
     "slide_type": "slide"
    }
   },
   "source": [
    "### Subplots\n",
    "We talk about axes in the first place because they are necessary to generate subplots. Subplots are the pulled pork sandwiches of Matplotlib – once you discover them you can’t imagine life without them. In modern usage, subplots are created like so:\n",
    "```\n",
    "plt.subplots( nrows = <someInt>,\n",
    "                ncols = <someInt>,\n",
    "                sharex = <BOOL>,\n",
    "                sharey = <BOOL>)\n",
    "```\n",
    "All self-explanatory, I think. Sharing the axes - or the axes of the axes, I should say :( - can be very useful in quickly noticing differences in data series."
   ]
  },
  {
   "cell_type": "markdown",
   "metadata": {
    "slideshow": {
     "slide_type": "fragment"
    }
   },
   "source": [
    "#### Generating Subplots\n",
    "You divide your figure into a grid of subplots, rows times columns, and you can decide whether or not you want the different x and y axes to be shared.\n",
    "\n",
    "So that’s two objects that come into the world – the figure object, and it’s internal, axis object, that controls the subplots. The subplots are sensibly arranged in a grid, rows by columns, and this gives us the ability to fill them by co-ordinate. \n",
    "\n",
    "Let's set up a figure, three rows by three columns, and let's then write to the middle axis. That sounds like a fun thing to do."
   ]
  },
  {
   "cell_type": "code",
   "execution_count": 20,
   "metadata": {
    "collapsed": false,
    "slideshow": {
     "slide_type": "slide"
    }
   },
   "outputs": [
    {
     "data": {
      "text/plain": [
       "[<matplotlib.lines.Line2D at 0x10a6d3510>]"
      ]
     },
     "execution_count": 20,
     "metadata": {},
     "output_type": "execute_result"
    },
    {
     "data": {
      "image/png": "[encoded data removed]",
      "text/plain": [
       "<matplotlib.figure.Figure at 0x109c33e50>"
      ]
     },
     "metadata": {},
     "output_type": "display_data"
    }
   ],
   "source": [
    "fig, axes = plt.subplots(3,3, sharex = True, sharey = True)\n",
    "axes[1,1].plot(mtcars.mpg)"
   ]
  },
  {
   "cell_type": "markdown",
   "metadata": {
    "slideshow": {
     "slide_type": "fragment"
    }
   },
   "source": [
    "Bull's-eye."
   ]
  },
  {
   "cell_type": "markdown",
   "metadata": {
    "slideshow": {
     "slide_type": "slide"
    }
   },
   "source": [
    "### It's Good to Share\n",
    "Subplots come into their own when you can share axes - sometimes it's useful to have all your data on one chart, and other times it just makes for mess, like something Jackson Pollack threw out. So, to see just why all this is worth the bother, we'll try to create a chart with subplots that's a little more interesting."
   ]
  },
  {
   "cell_type": "markdown",
   "metadata": {
    "slideshow": {
     "slide_type": "fragment"
    }
   },
   "source": [
    "#### Labels and Legends\n",
    "`plt.plot()` has an argument called label. Label takes a string with which you can - obviously enough - label your data. If you then call the `plt.legend()` method, that will display your labels in the best way possible. Better together than bacon and eggs."
   ]
  },
  {
   "cell_type": "markdown",
   "metadata": {
    "slideshow": {
     "slide_type": "slide"
    }
   },
   "source": [
    "#### Creating a plot with subplots\n",
    "1. First, group your data as you'd like them to appear\n",
    "2. Store those data in a list for use later\n",
    "3. Create a figure with eight suplots, arranged in four rows and two columns (in this case; x rows by y columns in other cases, of course)\n",
    "4. Create an iterator for the list of data\n",
    "5. Use for loops to iterate through the rows and the columns of the plot\n",
    "6. Write to each axes as you go\n",
    "7. Voila!"
   ]
  },
  {
   "cell_type": "code",
   "execution_count": 21,
   "metadata": {
    "collapsed": true,
    "slideshow": {
     "slide_type": "fragment"
    }
   },
   "outputs": [],
   "source": [
    "# Group mtcars by cylinders and gears\n",
    "groupData = mtcars.groupby(['cyl', 'gear'])\n",
    "\n",
    "# Create a list to store the data which we'll use for the plots later\n",
    "plottingData = []\n",
    "for a, b in groupData:\n",
    "    groupLabel = \"{} cylinders\\n{} gears\".format(a[0], a[1])\n",
    "    plottingData.append([groupLabel, b.wt, b.hp])"
   ]
  },
  {
   "cell_type": "code",
   "execution_count": 22,
   "metadata": {
    "collapsed": false,
    "slideshow": {
     "slide_type": "slide"
    }
   },
   "outputs": [
    {
     "data": {
      "image/png": "[encoded data removed]",
      "text/plain": [
       "<matplotlib.figure.Figure at 0x10b252450>"
      ]
     },
     "metadata": {},
     "output_type": "display_data"
    }
   ],
   "source": [
    "# We'll create a figure that is 4 rows high by two columns wide\n",
    "figure, axes = plt.subplots(4, 2, sharex = True, sharey = True) \n",
    "\n",
    "i = 0 # our iterator for the plottingData list\n",
    "for x in range(4):\n",
    "    for y in range(2):\n",
    "        axes[x,y].plot(plottingData[i][1],\n",
    "                        plottingData[i][2],\n",
    "                        color = 'r',\n",
    "                        markeredgewidth = 0,\n",
    "                        linewidth = 0,\n",
    "                        marker = '*',\n",
    "                        label = plottingData[i][0]) # The label argument mentioned earlier\n",
    "        axes[x,y].legend(fontsize = 'x-small')      # and the legend() method.\n",
    "        i += 1"
   ]
  },
  {
   "cell_type": "markdown",
   "metadata": {
    "slideshow": {
     "slide_type": "slide"
    }
   },
   "source": [
    "#### The World's Most Pointless Graph\n",
    "We had the _World's Simplest Data Frame_ earlier. I think we can identify that last effort as the _World's Most Pointless Graph_, in real world terms. You can't make it out and, if you do, you learn nothing. But it does serve to illustrate a useful technique, so maybe it's not entirely pointless after all. I hope that this talk hasn't been entirely pointless either, and that even if you haven't learned anything new, you weren't bored senseless either."
   ]
  },
  {
   "cell_type": "markdown",
   "metadata": {
    "slideshow": {
     "slide_type": "fragment"
    }
   },
   "source": [
    "#### Please Forgive Me, Documenters!\n",
    "Before I go though, I should point out that although I've made a few cracks at the [Matplotlib documentation](http://matplotlib.org/index.html), I only did so to keep the tone light and keep people interested. Having done that, I’d be worse than a caveman if I didn’t make a point of noting that that the very fact those documents exist in the first place is a miracle and that if they didn’t we’d all be going around with candles in a hurricane. The people who wrote, collected and maintain those documents are the royalty in this endeavor and, for myself as a court jester, I can only beg them to understand I only teased because I knew they could take it."
   ]
  }
 ],
 "metadata": {
  "celltoolbar": "Slideshow",
  "kernelspec": {
   "display_name": "Python 2",
   "language": "python",
   "name": "python2"
  },
  "language_info": {
   "codemirror_mode": {
    "name": "ipython",
    "version": 2
   },
   "file_extension": ".py",
   "mimetype": "text/x-python",
   "name": "python",
   "nbconvert_exporter": "python",
   "pygments_lexer": "ipython2",
   "version": "2.7.10"
  }
 },
 "nbformat": 4,
 "nbformat_minor": 0
}
